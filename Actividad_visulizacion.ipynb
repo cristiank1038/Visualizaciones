{
  "nbformat": 4,
  "nbformat_minor": 0,
  "metadata": {
    "colab": {
      "provenance": [],
      "authorship_tag": "ABX9TyNwItpPE/bFhr1rLnnEqr15",
      "include_colab_link": true
    },
    "kernelspec": {
      "name": "python3",
      "display_name": "Python 3"
    },
    "language_info": {
      "name": "python"
    }
  },
  "cells": [
    {
      "cell_type": "markdown",
      "metadata": {
        "id": "view-in-github",
        "colab_type": "text"
      },
      "source": [
        "<a href=\"https://colab.research.google.com/github/cristiank1038/Visualizaciones/blob/main/Actividad_visulizacion.ipynb\" target=\"_parent\"><img src=\"https://colab.research.google.com/assets/colab-badge.svg\" alt=\"Open In Colab\"/></a>"
      ]
    },
    {
      "cell_type": "code",
      "execution_count": 1,
      "metadata": {
        "colab": {
          "base_uri": "https://localhost:8080/"
        },
        "id": "jiSFQ1H-SoaL",
        "outputId": "50479162-6c9b-4a63-f534-59d7a1f1cd8d"
      },
      "outputs": [
        {
          "output_type": "stream",
          "name": "stdout",
          "text": [
            "Mounted at /content/drive\n"
          ]
        }
      ],
      "source": [
        "from google.colab import drive\n",
        "drive.mount('/content/drive')"
      ]
    },
    {
      "cell_type": "code",
      "source": [
        "import matplotlib.pyplot as plt\n",
        "import pandas as pd\n",
        "import numpy as np"
      ],
      "metadata": {
        "id": "8e0FHnTUSwUg"
      },
      "execution_count": 2,
      "outputs": []
    },
    {
      "cell_type": "code",
      "source": [
        "filename = '/content/drive/MyDrive/Codificación de Dojo-DS/semana 4 Visualización para la presentación de informes/SIPRI Military Expenditure Database.xlsx'\n",
        "df = pd.read_excel(filename)  #“df” (que significa “dataframe” o marco de datos)\n"
      ],
      "metadata": {
        "id": "0IKorPSbS-dz"
      },
      "execution_count": 3,
      "outputs": []
    },
    {
      "cell_type": "code",
      "source": [
        "df.head()"
      ],
      "metadata": {
        "colab": {
          "base_uri": "https://localhost:8080/",
          "height": 206
        },
        "id": "068669UKTRY6",
        "outputId": "64694b69-4e8d-430f-e403-3905dfe82378"
      },
      "execution_count": 4,
      "outputs": [
        {
          "output_type": "execute_result",
          "data": {
            "text/plain": [
              "   Year      Country  Spending (2020 USD)  Percent of GDP  \\\n",
              "0  1988  Afghanistan                  NaN             NaN   \n",
              "1  1989  Afghanistan                  NaN             NaN   \n",
              "2  1990  Afghanistan                  NaN             NaN   \n",
              "3  1991  Afghanistan                  NaN             NaN   \n",
              "4  1992  Afghanistan                  NaN             NaN   \n",
              "\n",
              "   Percent of Government Spending  Spending per Capita  \n",
              "0                             NaN                  NaN  \n",
              "1                             NaN                  NaN  \n",
              "2                             NaN                  NaN  \n",
              "3                             NaN                  NaN  \n",
              "4                             NaN                  NaN  "
            ],
            "text/html": [
              "\n",
              "  <div id=\"df-1e963cc1-a84b-464a-9827-63b11a7c7a07\">\n",
              "    <div class=\"colab-df-container\">\n",
              "      <div>\n",
              "<style scoped>\n",
              "    .dataframe tbody tr th:only-of-type {\n",
              "        vertical-align: middle;\n",
              "    }\n",
              "\n",
              "    .dataframe tbody tr th {\n",
              "        vertical-align: top;\n",
              "    }\n",
              "\n",
              "    .dataframe thead th {\n",
              "        text-align: right;\n",
              "    }\n",
              "</style>\n",
              "<table border=\"1\" class=\"dataframe\">\n",
              "  <thead>\n",
              "    <tr style=\"text-align: right;\">\n",
              "      <th></th>\n",
              "      <th>Year</th>\n",
              "      <th>Country</th>\n",
              "      <th>Spending (2020 USD)</th>\n",
              "      <th>Percent of GDP</th>\n",
              "      <th>Percent of Government Spending</th>\n",
              "      <th>Spending per Capita</th>\n",
              "    </tr>\n",
              "  </thead>\n",
              "  <tbody>\n",
              "    <tr>\n",
              "      <th>0</th>\n",
              "      <td>1988</td>\n",
              "      <td>Afghanistan</td>\n",
              "      <td>NaN</td>\n",
              "      <td>NaN</td>\n",
              "      <td>NaN</td>\n",
              "      <td>NaN</td>\n",
              "    </tr>\n",
              "    <tr>\n",
              "      <th>1</th>\n",
              "      <td>1989</td>\n",
              "      <td>Afghanistan</td>\n",
              "      <td>NaN</td>\n",
              "      <td>NaN</td>\n",
              "      <td>NaN</td>\n",
              "      <td>NaN</td>\n",
              "    </tr>\n",
              "    <tr>\n",
              "      <th>2</th>\n",
              "      <td>1990</td>\n",
              "      <td>Afghanistan</td>\n",
              "      <td>NaN</td>\n",
              "      <td>NaN</td>\n",
              "      <td>NaN</td>\n",
              "      <td>NaN</td>\n",
              "    </tr>\n",
              "    <tr>\n",
              "      <th>3</th>\n",
              "      <td>1991</td>\n",
              "      <td>Afghanistan</td>\n",
              "      <td>NaN</td>\n",
              "      <td>NaN</td>\n",
              "      <td>NaN</td>\n",
              "      <td>NaN</td>\n",
              "    </tr>\n",
              "    <tr>\n",
              "      <th>4</th>\n",
              "      <td>1992</td>\n",
              "      <td>Afghanistan</td>\n",
              "      <td>NaN</td>\n",
              "      <td>NaN</td>\n",
              "      <td>NaN</td>\n",
              "      <td>NaN</td>\n",
              "    </tr>\n",
              "  </tbody>\n",
              "</table>\n",
              "</div>\n",
              "      <button class=\"colab-df-convert\" onclick=\"convertToInteractive('df-1e963cc1-a84b-464a-9827-63b11a7c7a07')\"\n",
              "              title=\"Convert this dataframe to an interactive table.\"\n",
              "              style=\"display:none;\">\n",
              "        \n",
              "  <svg xmlns=\"http://www.w3.org/2000/svg\" height=\"24px\"viewBox=\"0 0 24 24\"\n",
              "       width=\"24px\">\n",
              "    <path d=\"M0 0h24v24H0V0z\" fill=\"none\"/>\n",
              "    <path d=\"M18.56 5.44l.94 2.06.94-2.06 2.06-.94-2.06-.94-.94-2.06-.94 2.06-2.06.94zm-11 1L8.5 8.5l.94-2.06 2.06-.94-2.06-.94L8.5 2.5l-.94 2.06-2.06.94zm10 10l.94 2.06.94-2.06 2.06-.94-2.06-.94-.94-2.06-.94 2.06-2.06.94z\"/><path d=\"M17.41 7.96l-1.37-1.37c-.4-.4-.92-.59-1.43-.59-.52 0-1.04.2-1.43.59L10.3 9.45l-7.72 7.72c-.78.78-.78 2.05 0 2.83L4 21.41c.39.39.9.59 1.41.59.51 0 1.02-.2 1.41-.59l7.78-7.78 2.81-2.81c.8-.78.8-2.07 0-2.86zM5.41 20L4 18.59l7.72-7.72 1.47 1.35L5.41 20z\"/>\n",
              "  </svg>\n",
              "      </button>\n",
              "      \n",
              "  <style>\n",
              "    .colab-df-container {\n",
              "      display:flex;\n",
              "      flex-wrap:wrap;\n",
              "      gap: 12px;\n",
              "    }\n",
              "\n",
              "    .colab-df-convert {\n",
              "      background-color: #E8F0FE;\n",
              "      border: none;\n",
              "      border-radius: 50%;\n",
              "      cursor: pointer;\n",
              "      display: none;\n",
              "      fill: #1967D2;\n",
              "      height: 32px;\n",
              "      padding: 0 0 0 0;\n",
              "      width: 32px;\n",
              "    }\n",
              "\n",
              "    .colab-df-convert:hover {\n",
              "      background-color: #E2EBFA;\n",
              "      box-shadow: 0px 1px 2px rgba(60, 64, 67, 0.3), 0px 1px 3px 1px rgba(60, 64, 67, 0.15);\n",
              "      fill: #174EA6;\n",
              "    }\n",
              "\n",
              "    [theme=dark] .colab-df-convert {\n",
              "      background-color: #3B4455;\n",
              "      fill: #D2E3FC;\n",
              "    }\n",
              "\n",
              "    [theme=dark] .colab-df-convert:hover {\n",
              "      background-color: #434B5C;\n",
              "      box-shadow: 0px 1px 3px 1px rgba(0, 0, 0, 0.15);\n",
              "      filter: drop-shadow(0px 1px 2px rgba(0, 0, 0, 0.3));\n",
              "      fill: #FFFFFF;\n",
              "    }\n",
              "  </style>\n",
              "\n",
              "      <script>\n",
              "        const buttonEl =\n",
              "          document.querySelector('#df-1e963cc1-a84b-464a-9827-63b11a7c7a07 button.colab-df-convert');\n",
              "        buttonEl.style.display =\n",
              "          google.colab.kernel.accessAllowed ? 'block' : 'none';\n",
              "\n",
              "        async function convertToInteractive(key) {\n",
              "          const element = document.querySelector('#df-1e963cc1-a84b-464a-9827-63b11a7c7a07');\n",
              "          const dataTable =\n",
              "            await google.colab.kernel.invokeFunction('convertToInteractive',\n",
              "                                                     [key], {});\n",
              "          if (!dataTable) return;\n",
              "\n",
              "          const docLinkHtml = 'Like what you see? Visit the ' +\n",
              "            '<a target=\"_blank\" href=https://colab.research.google.com/notebooks/data_table.ipynb>data table notebook</a>'\n",
              "            + ' to learn more about interactive tables.';\n",
              "          element.innerHTML = '';\n",
              "          dataTable['output_type'] = 'display_data';\n",
              "          await google.colab.output.renderOutput(dataTable, element);\n",
              "          const docLink = document.createElement('div');\n",
              "          docLink.innerHTML = docLinkHtml;\n",
              "          element.appendChild(docLink);\n",
              "        }\n",
              "      </script>\n",
              "    </div>\n",
              "  </div>\n",
              "  "
            ]
          },
          "metadata": {},
          "execution_count": 4
        }
      ]
    },
    {
      "cell_type": "code",
      "source": [
        "df.info()"
      ],
      "metadata": {
        "colab": {
          "base_uri": "https://localhost:8080/"
        },
        "id": "5kS5-SJDTShV",
        "outputId": "92a0dee6-298d-406c-bec7-c23db2d1796d"
      },
      "execution_count": 5,
      "outputs": [
        {
          "output_type": "stream",
          "name": "stdout",
          "text": [
            "<class 'pandas.core.frame.DataFrame'>\n",
            "RangeIndex: 5882 entries, 0 to 5881\n",
            "Data columns (total 6 columns):\n",
            " #   Column                          Non-Null Count  Dtype  \n",
            "---  ------                          --------------  -----  \n",
            " 0   Year                            5882 non-null   int64  \n",
            " 1   Country                         5882 non-null   object \n",
            " 2   Spending (2020 USD)             4863 non-null   float64\n",
            " 3   Percent of GDP                  4881 non-null   float64\n",
            " 4   Percent of Government Spending  4210 non-null   float64\n",
            " 5   Spending per Capita             4835 non-null   float64\n",
            "dtypes: float64(4), int64(1), object(1)\n",
            "memory usage: 275.8+ KB\n"
          ]
        }
      ]
    },
    {
      "cell_type": "code",
      "source": [
        "#identificamos datos duplicados\n",
        "df.duplicated()"
      ],
      "metadata": {
        "colab": {
          "base_uri": "https://localhost:8080/"
        },
        "id": "BZi8ZXeKTUqy",
        "outputId": "a015c7a3-b5fc-4e49-95d3-12c0c72d4c19"
      },
      "execution_count": 12,
      "outputs": [
        {
          "output_type": "execute_result",
          "data": {
            "text/plain": [
              "0       False\n",
              "1       False\n",
              "2       False\n",
              "3       False\n",
              "4       False\n",
              "        ...  \n",
              "5877    False\n",
              "5878    False\n",
              "5879    False\n",
              "5880    False\n",
              "5881    False\n",
              "Length: 5882, dtype: bool"
            ]
          },
          "metadata": {},
          "execution_count": 12
        }
      ]
    },
    {
      "cell_type": "code",
      "source": [
        "df.duplicated().sum()"
      ],
      "metadata": {
        "colab": {
          "base_uri": "https://localhost:8080/"
        },
        "id": "a6PjF9i3TxeK",
        "outputId": "144b7619-e905-402d-c27d-ee0898861ca3"
      },
      "execution_count": 10,
      "outputs": [
        {
          "output_type": "execute_result",
          "data": {
            "text/plain": [
              "0"
            ]
          },
          "metadata": {},
          "execution_count": 10
        }
      ]
    },
    {
      "cell_type": "code",
      "source": [
        "#identificamos datos faltantes\n",
        "df.isna().sum()"
      ],
      "metadata": {
        "colab": {
          "base_uri": "https://localhost:8080/"
        },
        "id": "QL-oLYV8UFsC",
        "outputId": "b7cb94d2-8658-4ca6-c98a-d0bf7dbd0ef1"
      },
      "execution_count": 11,
      "outputs": [
        {
          "output_type": "execute_result",
          "data": {
            "text/plain": [
              "Year                                 0\n",
              "Country                              0\n",
              "Spending (2020 USD)               1019\n",
              "Percent of GDP                    1001\n",
              "Percent of Government Spending    1672\n",
              "Spending per Capita               1047\n",
              "dtype: int64"
            ]
          },
          "metadata": {},
          "execution_count": 11
        }
      ]
    },
    {
      "cell_type": "code",
      "source": [
        "\"\"\" con la columna donde faltan datos llamada Spending (2020 USD) lo que hacemos es llenar esos datos faltantes con la media de esas datos\"\"\"\n",
        "median_Weight = df['Spending (2020 USD)'].median()\n",
        "df['Spending (2020 USD)'].fillna(median_Weight, inplace=True)"
      ],
      "metadata": {
        "id": "jrGtxtdPUPEE"
      },
      "execution_count": 14,
      "outputs": []
    },
    {
      "cell_type": "code",
      "source": [
        "\"\"\" con la columna donde faltan datos llamada Percent of GDP lo que hacemos es llenar esos datos faltantes con la media de esas datos\"\"\"\n",
        "median_Weight = df['Percent of GDP'].median()\n",
        "df['Percent of GDP'].fillna(median_Weight, inplace=True)"
      ],
      "metadata": {
        "id": "F_TYot30UraX"
      },
      "execution_count": 15,
      "outputs": []
    },
    {
      "cell_type": "code",
      "source": [
        "\"\"\" con la columna donde faltan datos llamada Percent of Government Spending lo que hacemos es llenar esos datos faltantes con la media de esas datos\"\"\"\n",
        "median_Weight = df['Percent of Government Spending'].median()\n",
        "df['Percent of Government Spending'].fillna(median_Weight, inplace=True)"
      ],
      "metadata": {
        "id": "Vol3AQ2SUzYZ"
      },
      "execution_count": 16,
      "outputs": []
    },
    {
      "cell_type": "code",
      "source": [
        "\"\"\" con la columna donde faltan datos llamada Spending per Capita  lo que hacemos es llenar esos datos faltantes con la media de esas datos\"\"\"\n",
        "median_Weight = df['Spending per Capita'].median()\n",
        "df['Spending per Capita'].fillna(median_Weight, inplace=True)"
      ],
      "metadata": {
        "id": "q4BBFLgDU6_8"
      },
      "execution_count": 18,
      "outputs": []
    },
    {
      "cell_type": "code",
      "source": [
        "#identificamos datos faltantes de nuevo\n",
        "df.isna().sum()"
      ],
      "metadata": {
        "colab": {
          "base_uri": "https://localhost:8080/"
        },
        "id": "sBzrK5n8VBLt",
        "outputId": "f5d5ed1b-7d9c-435d-9600-ef6ac03fe8aa"
      },
      "execution_count": 19,
      "outputs": [
        {
          "output_type": "execute_result",
          "data": {
            "text/plain": [
              "Year                              0\n",
              "Country                           0\n",
              "Spending (2020 USD)               0\n",
              "Percent of GDP                    0\n",
              "Percent of Government Spending    0\n",
              "Spending per Capita               0\n",
              "dtype: int64"
            ]
          },
          "metadata": {},
          "execution_count": 19
        }
      ]
    },
    {
      "cell_type": "code",
      "source": [
        "\"\"\"ahora procedemos Usar Python para crear una visualización atractiva e informativa usando los datos seleccionados\"\"\""
      ],
      "metadata": {
        "colab": {
          "base_uri": "https://localhost:8080/",
          "height": 35
        },
        "id": "wVwBG5K-Vceg",
        "outputId": "a88c6baf-8aa8-4e99-d4f1-3437d69ed120"
      },
      "execution_count": 24,
      "outputs": [
        {
          "output_type": "execute_result",
          "data": {
            "text/plain": [
              "'ahora procedemos Usar Python para crear una visualización atractiva e informativa usando los datos seleccionados'"
            ],
            "application/vnd.google.colaboratory.intrinsic+json": {
              "type": "string"
            }
          },
          "metadata": {},
          "execution_count": 24
        }
      ]
    },
    {
      "cell_type": "code",
      "source": [
        "\"\"\"miremos por ejemplo el año en que mas dinero se invirtio en el area militar\"\"\"\n",
        "plt.style.use('tableau-colorblind10')\n",
        "plt.plot(df['Year'], df['Spending (2020 USD)'])"
      ],
      "metadata": {
        "colab": {
          "base_uri": "https://localhost:8080/",
          "height": 364
        },
        "id": "qCiozYBxVvHA",
        "outputId": "b01ddb97-9587-4c27-8f86-c2f144a515d5"
      },
      "execution_count": 40,
      "outputs": [
        {
          "output_type": "execute_result",
          "data": {
            "text/plain": [
              "[<matplotlib.lines.Line2D at 0x7f434f9f4490>]"
            ]
          },
          "metadata": {},
          "execution_count": 40
        },
        {
          "output_type": "display_data",
          "data": {
            "text/plain": [
              "<Figure size 576x396 with 1 Axes>"
            ],
            "image/png": "[encoded data removed]"
          },
          "metadata": {}
        }
      ]
    },
    {
      "cell_type": "code",
      "source": [
        "\"\"\"Antes de cambiar el tipo de marcador y el color, es necesario transformar los datos en una forma organizada adecuada para Matplotlib. Esto significa transformar los datos en una lista Python o un array de NumPy. \"\"\"\n",
        "numberUniqueYear = df.groupby(['Year'])['Spending (2020 USD)'].nunique()"
      ],
      "metadata": {
        "id": "6a3GPiIDWVD0"
      },
      "execution_count": 41,
      "outputs": []
    },
    {
      "cell_type": "code",
      "source": [
        "numberUniqueYear"
      ],
      "metadata": {
        "colab": {
          "base_uri": "https://localhost:8080/"
        },
        "id": "O9LSHnpgW4lW",
        "outputId": "7657f708-447e-4eee-9a5c-0fbf5ebf9910"
      },
      "execution_count": 36,
      "outputs": [
        {
          "output_type": "execute_result",
          "data": {
            "text/plain": [
              "Year\n",
              "1988    117\n",
              "1989    119\n",
              "1990    121\n",
              "1991    120\n",
              "1992    131\n",
              "1993    141\n",
              "1994    141\n",
              "1995    139\n",
              "1996    141\n",
              "1997    143\n",
              "1998    138\n",
              "1999    141\n",
              "2000    143\n",
              "2001    144\n",
              "2002    147\n",
              "2003    151\n",
              "2004    152\n",
              "2005    153\n",
              "2006    149\n",
              "2007    147\n",
              "2008    153\n",
              "2009    149\n",
              "2010    148\n",
              "2011    146\n",
              "2012    152\n",
              "2013    153\n",
              "2014    155\n",
              "2015    150\n",
              "2016    152\n",
              "2017    152\n",
              "2018    154\n",
              "2019    152\n",
              "2020    151\n",
              "2021    151\n",
              "Name: Spending (2020 USD), dtype: int64"
            ]
          },
          "metadata": {},
          "execution_count": 36
        }
      ]
    },
    {
      "cell_type": "code",
      "source": [
        "\"\"\"Establecer el tipo de marcador y color.\n",
        "Empecemos creando un gráfico básico donde uniqueYears está en el eje x y numOlympian está en el eje y.\"\"\"\n",
        "uniqueYears = list(numberUniqueYear.index)\n",
        "uniqueYears"
      ],
      "metadata": {
        "colab": {
          "base_uri": "https://localhost:8080/"
        },
        "id": "POJKuba9W8i-",
        "outputId": "f60d602c-c72e-47b9-800f-55cff7ffffa7"
      },
      "execution_count": 42,
      "outputs": [
        {
          "output_type": "execute_result",
          "data": {
            "text/plain": [
              "[1988,\n",
              " 1989,\n",
              " 1990,\n",
              " 1991,\n",
              " 1992,\n",
              " 1993,\n",
              " 1994,\n",
              " 1995,\n",
              " 1996,\n",
              " 1997,\n",
              " 1998,\n",
              " 1999,\n",
              " 2000,\n",
              " 2001,\n",
              " 2002,\n",
              " 2003,\n",
              " 2004,\n",
              " 2005,\n",
              " 2006,\n",
              " 2007,\n",
              " 2008,\n",
              " 2009,\n",
              " 2010,\n",
              " 2011,\n",
              " 2012,\n",
              " 2013,\n",
              " 2014,\n",
              " 2015,\n",
              " 2016,\n",
              " 2017,\n",
              " 2018,\n",
              " 2019,\n",
              " 2020,\n",
              " 2021]"
            ]
          },
          "metadata": {},
          "execution_count": 42
        }
      ]
    },
    {
      "cell_type": "code",
      "source": [
        "numOlympian = list(numberUniqueYear.values)\n",
        "numOlympian"
      ],
      "metadata": {
        "colab": {
          "base_uri": "https://localhost:8080/"
        },
        "id": "xi2hpuB0XOcL",
        "outputId": "4113d2c1-442d-4ccb-8f5b-cc41cd80abe0"
      },
      "execution_count": 38,
      "outputs": [
        {
          "output_type": "execute_result",
          "data": {
            "text/plain": [
              "[117,\n",
              " 119,\n",
              " 121,\n",
              " 120,\n",
              " 131,\n",
              " 141,\n",
              " 141,\n",
              " 139,\n",
              " 141,\n",
              " 143,\n",
              " 138,\n",
              " 141,\n",
              " 143,\n",
              " 144,\n",
              " 147,\n",
              " 151,\n",
              " 152,\n",
              " 153,\n",
              " 149,\n",
              " 147,\n",
              " 153,\n",
              " 149,\n",
              " 148,\n",
              " 146,\n",
              " 152,\n",
              " 153,\n",
              " 155,\n",
              " 150,\n",
              " 152,\n",
              " 152,\n",
              " 154,\n",
              " 152,\n",
              " 151,\n",
              " 151]"
            ]
          },
          "metadata": {},
          "execution_count": 38
        }
      ]
    },
    {
      "cell_type": "code",
      "source": [
        "plt.style.use('seaborn')\n",
        "plt.plot(uniqueYears, numOlympian, marker = '.', markersize = 10)\n",
        "# plt.plot(uniqueYears, numOlympian)"
      ],
      "metadata": {
        "colab": {
          "base_uri": "https://localhost:8080/",
          "height": 364
        },
        "id": "AOe6_BG6XS-9",
        "outputId": "8960cb90-4cf9-414a-db12-5e7e5e5fe4da"
      },
      "execution_count": 43,
      "outputs": [
        {
          "output_type": "execute_result",
          "data": {
            "text/plain": [
              "[<matplotlib.lines.Line2D at 0x7f434f9dbcd0>]"
            ]
          },
          "metadata": {},
          "execution_count": 43
        },
        {
          "output_type": "display_data",
          "data": {
            "text/plain": [
              "<Figure size 576x396 with 1 Axes>"
            ],
            "image/png": "[encoded data removed]"
          },
          "metadata": {}
        }
      ]
    },
    {
      "cell_type": "code",
      "source": [
        "\"\"\"otro\"\"\""
      ],
      "metadata": {
        "colab": {
          "base_uri": "https://localhost:8080/",
          "height": 35
        },
        "id": "k9o6r01UXX1m",
        "outputId": "ccb079fb-83c5-4a37-c671-43f34dc34f1a"
      },
      "execution_count": 44,
      "outputs": [
        {
          "output_type": "execute_result",
          "data": {
            "text/plain": [
              "'otro'"
            ],
            "application/vnd.google.colaboratory.intrinsic+json": {
              "type": "string"
            }
          },
          "metadata": {},
          "execution_count": 44
        }
      ]
    },
    {
      "cell_type": "code",
      "source": [
        "numberUniqueYear = df.groupby(['Year'])['Percent of Government Spending'].nunique()"
      ],
      "metadata": {
        "id": "nvQNa-SFZhZJ"
      },
      "execution_count": 45,
      "outputs": []
    },
    {
      "cell_type": "code",
      "source": [
        "# this is a pandas Series\n",
        "numberUniqueYear"
      ],
      "metadata": {
        "colab": {
          "base_uri": "https://localhost:8080/"
        },
        "id": "ddDUz1p7Zp4d",
        "outputId": "61ff3ad2-43f3-4b86-c6bc-183cd58e1a00"
      },
      "execution_count": 47,
      "outputs": [
        {
          "output_type": "execute_result",
          "data": {
            "text/plain": [
              "Year\n",
              "1988     39\n",
              "1989     43\n",
              "1990     67\n",
              "1991     72\n",
              "1992     74\n",
              "1993     81\n",
              "1994     86\n",
              "1995    101\n",
              "1996    105\n",
              "1997    113\n",
              "1998    116\n",
              "1999    119\n",
              "2000    135\n",
              "2001    138\n",
              "2002    143\n",
              "2003    146\n",
              "2004    148\n",
              "2005    151\n",
              "2006    146\n",
              "2007    144\n",
              "2008    150\n",
              "2009    146\n",
              "2010    145\n",
              "2011    143\n",
              "2012    149\n",
              "2013    151\n",
              "2014    152\n",
              "2015    147\n",
              "2016    149\n",
              "2017    149\n",
              "2018    151\n",
              "2019    149\n",
              "2020    149\n",
              "2021    147\n",
              "Name: Percent of Government Spending, dtype: int64"
            ]
          },
          "metadata": {},
          "execution_count": 47
        }
      ]
    },
    {
      "cell_type": "code",
      "source": [
        "# Can convert to NumPy array or list\n",
        "uniqueYears = np.array(numberUniqueYear.index)\n",
        "uniqueYears"
      ],
      "metadata": {
        "colab": {
          "base_uri": "https://localhost:8080/"
        },
        "id": "YAQUhcawZr-e",
        "outputId": "d2e2492e-cfaf-4fc6-fc61-7c422163f6ad"
      },
      "execution_count": 48,
      "outputs": [
        {
          "output_type": "execute_result",
          "data": {
            "text/plain": [
              "array([1988, 1989, 1990, 1991, 1992, 1993, 1994, 1995, 1996, 1997, 1998,\n",
              "       1999, 2000, 2001, 2002, 2003, 2004, 2005, 2006, 2007, 2008, 2009,\n",
              "       2010, 2011, 2012, 2013, 2014, 2015, 2016, 2017, 2018, 2019, 2020,\n",
              "       2021])"
            ]
          },
          "metadata": {},
          "execution_count": 48
        }
      ]
    },
    {
      "cell_type": "code",
      "source": [
        "numOlympian = np.array(numberUniqueYear.values)\n",
        "numOlympian"
      ],
      "metadata": {
        "colab": {
          "base_uri": "https://localhost:8080/"
        },
        "id": "bvHHuBO0Z1_I",
        "outputId": "92a97172-2faa-4b5f-baad-3d4a0cc3dee7"
      },
      "execution_count": 49,
      "outputs": [
        {
          "output_type": "execute_result",
          "data": {
            "text/plain": [
              "array([ 39,  43,  67,  72,  74,  81,  86, 101, 105, 113, 116, 119, 135,\n",
              "       138, 143, 146, 148, 151, 146, 144, 150, 146, 145, 143, 149, 151,\n",
              "       152, 147, 149, 149, 151, 149, 149, 147])"
            ]
          },
          "metadata": {},
          "execution_count": 49
        }
      ]
    },
    {
      "cell_type": "code",
      "source": [
        "\"\"\"establecemos limites\"\"\"\n",
        "plt.style.use('seaborn')\n",
        "plt.plot(uniqueYears, numOlympian, marker = '.', markersize = 10)\n",
        "plt.plot(uniqueYears, numOlympian, c= 'k')\n",
        "# plt.xlim(left=100,right=2020)\n",
        "# plt.ylim(bottom=0,top=180)\n",
        "plt.xlabel('Year')\n",
        "plt.ylabel('Percent of Government Spending')\n",
        "plt.title('Percent of Government Spending vs Year')"
      ],
      "metadata": {
        "colab": {
          "base_uri": "https://localhost:8080/",
          "height": 393
        },
        "id": "EsaD1IbjZ69t",
        "outputId": "db3e5b11-0621-45b9-a069-317d6a6580e9"
      },
      "execution_count": 59,
      "outputs": [
        {
          "output_type": "execute_result",
          "data": {
            "text/plain": [
              "Text(0.5, 1.0, 'Percent of Government Spending vs Year')"
            ]
          },
          "metadata": {},
          "execution_count": 59
        },
        {
          "output_type": "display_data",
          "data": {
            "text/plain": [
              "<Figure size 576x396 with 1 Axes>"
            ],
            "image/png": "[encoded data removed]"
          },
          "metadata": {}
        }
      ]
    },
    {
      "cell_type": "code",
      "source": [],
      "metadata": {
        "id": "o3i6NJONaO37"
      },
      "execution_count": null,
      "outputs": []
    }
  ]
}